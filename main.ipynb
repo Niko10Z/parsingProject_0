{
 "cells": [
  {
   "cell_type": "markdown",
   "id": "65187d94",
   "metadata": {},
   "source": [
    "# Imports"
   ]
  },
  {
   "cell_type": "code",
   "execution_count": 1,
   "id": "ee0880d6",
   "metadata": {},
   "outputs": [],
   "source": [
    "from src.coindesk_parser import get_all_articles_coindeskcom,\\\n",
    "                                get_coindeskcom_articles_from_rss, \\\n",
    "                                parse_article_coindeskcom\n",
    "from src.src import get_last_pars_dt, set_last_pars_dt, save_to_disk\n",
    "from datetime import datetime"
   ]
  },
  {
   "cell_type": "markdown",
   "id": "63af4ab5",
   "metadata": {},
   "source": [
    "# Main"
   ]
  },
  {
   "cell_type": "code",
   "execution_count": 2,
   "id": "fae17f4e",
   "metadata": {},
   "outputs": [],
   "source": [
    "if __name__ == '__main__':\n",
    "    news_list = get_all_articles_coindeskcom(datetime(2023, 6, 7, 23, 59), datetime(2023, 6, 1, 0, 0))\n",
    "    last_pars_time = get_last_pars_dt()\n",
    "    # news_list = get_coindeskcom_articles_from_rss(from_dt=datetime.now(), to_dt=last_pars_time)\n",
    "    # news_list = get_coindeskcom_articles_from_rss(from_dt=datetime.now())\n",
    "    for item in news_list:\n",
    "        if item.link.find('/video/') != -1:\n",
    "            continue\n",
    "        tmp_article = parse_article_coindeskcom(item.link)\n",
    "        if not tmp_article:\n",
    "            continue\n",
    "        save_to_disk(tmp_article)\n",
    "\n",
    "    set_last_pars_dt()\n"
   ]
  },
  {
   "cell_type": "code",
   "execution_count": null,
   "id": "4c343e30",
   "metadata": {},
   "outputs": [],
   "source": []
  }
 ],
 "metadata": {
  "kernelspec": {
   "display_name": "Python 3 (ipykernel)",
   "language": "python",
   "name": "python3"
  },
  "language_info": {
   "codemirror_mode": {
    "name": "ipython",
    "version": 3
   },
   "file_extension": ".py",
   "mimetype": "text/x-python",
   "name": "python",
   "nbconvert_exporter": "python",
   "pygments_lexer": "ipython3",
   "version": "3.10.11"
  }
 },
 "nbformat": 4,
 "nbformat_minor": 5
}
